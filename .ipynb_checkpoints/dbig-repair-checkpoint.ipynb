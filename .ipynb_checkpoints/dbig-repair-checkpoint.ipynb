{
 "cells": [
  {
   "cell_type": "markdown",
   "metadata": {},
   "source": [
    "In wikipedia-with-filtering.ipynb, I recorded whether a name led to a disambiguation page (in the 'dbig' column), but didn't investigate further, and treated it as them not having an article (`wiki_bool = False`). In this notebook, I attempt to dig deeper into those cases, by following the links listed in the disambig page for their name, to see if *any* of those articles are likely to be a match (again, based on matching keywords related to their field).\n",
    "\n",
    "NB: This relies on some local modifications I made to my installed version of Python's wikipedia library (https://pypi.org/project/wikipedia/) which:\n",
    "* Fixed https://github.com/goldsmith/Wikipedia/issues/79 (sometimes incorrect links given for dab entries)\n",
    "* Causes `DisambiguationError.options` to ignore links found under a \"See also\" section heading."
   ]
  },
  {
   "cell_type": "code",
   "execution_count": 1,
   "metadata": {
    "collapsed": false
   },
   "outputs": [],
   "source": [
    "import pandas as pd\n",
    "\n",
    "df = pd.read_csv('gscholar_complete_v3.csv', index_col=0)"
   ]
  },
  {
   "cell_type": "code",
   "execution_count": 2,
   "metadata": {
    "collapsed": true
   },
   "outputs": [],
   "source": [
    "pd.set_option('max_colwidth', 800)"
   ]
  },
  {
   "cell_type": "code",
   "execution_count": 3,
   "metadata": {
    "collapsed": false
   },
   "outputs": [],
   "source": [
    "def wikify_name(name):\n",
    "    name = name.replace('#', '')\n",
    "    return name.title()\n",
    "\n",
    "# The (presumed) title of the person's wikipedia article. If we find them by following a dab link,\n",
    "# we'll update this column to match the disambiguated title (e.g. \"Jane Smith (physicist)\")\n",
    "df['wiki_name'] = df.name.apply(wikify_name)"
   ]
  },
  {
   "cell_type": "code",
   "execution_count": 5,
   "metadata": {
    "collapsed": false,
    "deletable": true,
    "editable": true
   },
   "outputs": [
    {
     "data": {
      "text/html": [
       "<div>\n",
       "<style scoped>\n",
       "    .dataframe tbody tr th:only-of-type {\n",
       "        vertical-align: middle;\n",
       "    }\n",
       "\n",
       "    .dataframe tbody tr th {\n",
       "        vertical-align: top;\n",
       "    }\n",
       "\n",
       "    .dataframe thead th {\n",
       "        text-align: right;\n",
       "    }\n",
       "</style>\n",
       "<table border=\"1\" class=\"dataframe\">\n",
       "  <thead>\n",
       "    <tr style=\"text-align: right;\">\n",
       "      <th></th>\n",
       "      <th>h-index</th>\n",
       "      <th>h5-index</th>\n",
       "      <th>i10-index</th>\n",
       "      <th>i10-5-index</th>\n",
       "      <th>institution</th>\n",
       "      <th>name</th>\n",
       "      <th>url</th>\n",
       "      <th>n citations</th>\n",
       "      <th>n5 citations</th>\n",
       "      <th>field</th>\n",
       "      <th>gender</th>\n",
       "      <th>gender_prob</th>\n",
       "      <th>count_name</th>\n",
       "      <th>any_wiki_exists</th>\n",
       "      <th>dbig</th>\n",
       "      <th>firstline</th>\n",
       "      <th>wiki_bool</th>\n",
       "      <th>wiki_length</th>\n",
       "      <th>wiki_name</th>\n",
       "    </tr>\n",
       "  </thead>\n",
       "  <tbody>\n",
       "    <tr>\n",
       "      <th>9033</th>\n",
       "      <td>8</td>\n",
       "      <td>8</td>\n",
       "      <td>8</td>\n",
       "      <td>8</td>\n",
       "      <td>Elon University</td>\n",
       "      <td>Benjamin Evans</td>\n",
       "      <td>https://scholar.google.com//citations?user=46Pb6pYAAAAJ&amp;hl=en</td>\n",
       "      <td>890</td>\n",
       "      <td>712</td>\n",
       "      <td>1</td>\n",
       "      <td>male</td>\n",
       "      <td>1.00</td>\n",
       "      <td>1475.0</td>\n",
       "      <td>True</td>\n",
       "      <td>True</td>\n",
       "      <td>NaN</td>\n",
       "      <td>False</td>\n",
       "      <td>0.0</td>\n",
       "      <td>Benjamin Evans</td>\n",
       "    </tr>\n",
       "    <tr>\n",
       "      <th>10222</th>\n",
       "      <td>62</td>\n",
       "      <td>49</td>\n",
       "      <td>97</td>\n",
       "      <td>78</td>\n",
       "      <td>Harvard University</td>\n",
       "      <td>Thomas Kane</td>\n",
       "      <td>https://scholar.google.com//citations?user=LHHh_88AAAAJ&amp;hl=en</td>\n",
       "      <td>17921</td>\n",
       "      <td>9501</td>\n",
       "      <td>2</td>\n",
       "      <td>male</td>\n",
       "      <td>1.00</td>\n",
       "      <td>3753.0</td>\n",
       "      <td>True</td>\n",
       "      <td>True</td>\n",
       "      <td>NaN</td>\n",
       "      <td>False</td>\n",
       "      <td>0.0</td>\n",
       "      <td>Thomas Kane</td>\n",
       "    </tr>\n",
       "    <tr>\n",
       "      <th>5199</th>\n",
       "      <td>23</td>\n",
       "      <td>16</td>\n",
       "      <td>31</td>\n",
       "      <td>21</td>\n",
       "      <td>Dartmouth College</td>\n",
       "      <td>Hans Mueller</td>\n",
       "      <td>https://scholar.google.com//citations?user=LbjfVjIAAAAJ&amp;hl=en</td>\n",
       "      <td>2405</td>\n",
       "      <td>1055</td>\n",
       "      <td>1</td>\n",
       "      <td>male</td>\n",
       "      <td>0.99</td>\n",
       "      <td>431.0</td>\n",
       "      <td>True</td>\n",
       "      <td>True</td>\n",
       "      <td>NaN</td>\n",
       "      <td>False</td>\n",
       "      <td>0.0</td>\n",
       "      <td>Hans Mueller</td>\n",
       "    </tr>\n",
       "    <tr>\n",
       "      <th>21098</th>\n",
       "      <td>8</td>\n",
       "      <td>7</td>\n",
       "      <td>7</td>\n",
       "      <td>5</td>\n",
       "      <td>Michigan State University</td>\n",
       "      <td>Christopher Long</td>\n",
       "      <td>https://scholar.google.com//citations?user=hZwN2WQAAAAJ&amp;hl=en</td>\n",
       "      <td>289</td>\n",
       "      <td>182</td>\n",
       "      <td>3</td>\n",
       "      <td>male</td>\n",
       "      <td>1.00</td>\n",
       "      <td>2339.0</td>\n",
       "      <td>True</td>\n",
       "      <td>True</td>\n",
       "      <td>NaN</td>\n",
       "      <td>False</td>\n",
       "      <td>0.0</td>\n",
       "      <td>Christopher Long</td>\n",
       "    </tr>\n",
       "    <tr>\n",
       "      <th>15648</th>\n",
       "      <td>18</td>\n",
       "      <td>14</td>\n",
       "      <td>26</td>\n",
       "      <td>22</td>\n",
       "      <td>London School of Economics and Political Science</td>\n",
       "      <td>Richard Bradley</td>\n",
       "      <td>https://scholar.google.com//citations?user=L6_MRGoAAAAJ&amp;hl=en</td>\n",
       "      <td>735</td>\n",
       "      <td>480</td>\n",
       "      <td>2</td>\n",
       "      <td>male</td>\n",
       "      <td>1.00</td>\n",
       "      <td>4381.0</td>\n",
       "      <td>True</td>\n",
       "      <td>True</td>\n",
       "      <td>NaN</td>\n",
       "      <td>False</td>\n",
       "      <td>0.0</td>\n",
       "      <td>Richard Bradley</td>\n",
       "    </tr>\n",
       "  </tbody>\n",
       "</table>\n",
       "</div>"
      ],
      "text/plain": [
       "       h-index  h5-index  i10-index  i10-5-index  \\\n",
       "9033         8         8          8            8   \n",
       "10222       62        49         97           78   \n",
       "5199        23        16         31           21   \n",
       "21098        8         7          7            5   \n",
       "15648       18        14         26           22   \n",
       "\n",
       "                                            institution              name  \\\n",
       "9033                                    Elon University    Benjamin Evans   \n",
       "10222                                Harvard University       Thomas Kane   \n",
       "5199                                  Dartmouth College      Hans Mueller   \n",
       "21098                         Michigan State University  Christopher Long   \n",
       "15648  London School of Economics and Political Science   Richard Bradley   \n",
       "\n",
       "                                                                 url  \\\n",
       "9033   https://scholar.google.com//citations?user=46Pb6pYAAAAJ&hl=en   \n",
       "10222  https://scholar.google.com//citations?user=LHHh_88AAAAJ&hl=en   \n",
       "5199   https://scholar.google.com//citations?user=LbjfVjIAAAAJ&hl=en   \n",
       "21098  https://scholar.google.com//citations?user=hZwN2WQAAAAJ&hl=en   \n",
       "15648  https://scholar.google.com//citations?user=L6_MRGoAAAAJ&hl=en   \n",
       "\n",
       "       n citations  n5 citations  field gender  gender_prob  count_name  \\\n",
       "9033           890           712      1   male         1.00      1475.0   \n",
       "10222        17921          9501      2   male         1.00      3753.0   \n",
       "5199          2405          1055      1   male         0.99       431.0   \n",
       "21098          289           182      3   male         1.00      2339.0   \n",
       "15648          735           480      2   male         1.00      4381.0   \n",
       "\n",
       "      any_wiki_exists  dbig firstline wiki_bool  wiki_length         wiki_name  \n",
       "9033             True  True       NaN     False          0.0    Benjamin Evans  \n",
       "10222            True  True       NaN     False          0.0       Thomas Kane  \n",
       "5199             True  True       NaN     False          0.0      Hans Mueller  \n",
       "21098            True  True       NaN     False          0.0  Christopher Long  \n",
       "15648            True  True       NaN     False          0.0   Richard Bradley  "
      ]
     },
     "execution_count": 5,
     "metadata": {},
     "output_type": "execute_result"
    }
   ],
   "source": [
    "mini = df[df.dbig == True].sample(5, random_state=1)\n",
    "mini"
   ]
  },
  {
   "cell_type": "code",
   "execution_count": 6,
   "metadata": {
    "collapsed": true
   },
   "outputs": [],
   "source": [
    "import wikipedia as wp\n",
    "\n",
    "# Copied from wikipedia.ipynb\n",
    "def matches_field(page, field):\n",
    "    keywds = {\n",
    "        1: {'physics', 'physicist'}, # TODO: deal with false positive match on metaphysics\n",
    "        2: {'economics', 'economist'},\n",
    "        3: {'philosophy', 'philosopher'},\n",
    "    }\n",
    "    # I think it's actually better to use the introduction ('summary') rather than the full article\n",
    "    # content for this purpose. If they are an economist or physicist or whatever, it'll definitely\n",
    "    # be mentioned in the lead. Looking any deeper is just inviting false positives.\n",
    "    content = page.summary.lower()\n",
    "    for kw in keywds[field]:\n",
    "        if kw in content:\n",
    "            return True\n",
    "        # Check cats too as a safety-measure (e.g. found an example where someone was described only as\n",
    "        # a 'cosmologist' in the lead, but belonged to physicist categories)\n",
    "        for cat in page.categories:\n",
    "            if kw in cat:\n",
    "                return True\n",
    "    \n",
    "    return False\n",
    "\n",
    "def disambig_row(row):\n",
    "    if not row.dbig:\n",
    "        return row\n",
    "    name = row.wiki_name\n",
    "    try:\n",
    "        # auto_suggest=False will still follow redirects, but won't fall back to first search result if\n",
    "        # no page exists\n",
    "        pg = wp.page(name, auto_suggest=False)\n",
    "        print(\"WARNING: Expected disambig error for name {}, but didn't get one.\".format(name))\n",
    "    except wp.exceptions.DisambiguationError as e:\n",
    "        for option in e.options:\n",
    "            # Sometimes these are listed under a 'see also' section of a dab page. Annoyingly, they're included.\n",
    "            if 'disambiguation' in option:\n",
    "                continue\n",
    "            try:\n",
    "                # Weird that I need to disable auto_suggest again even when using an exact title match, but\n",
    "                # apparently I do.\n",
    "                pg = wp.page(option, auto_suggest=False)\n",
    "            except wp.exceptions.DisambiguationError as e2:\n",
    "                print(\"Double-dab for option {} of name {}\".format(option, name))\n",
    "                continue\n",
    "            if matches_field(pg, row.field):\n",
    "                if row.wiki_bool:\n",
    "                    print(\"WARNING: name {} matches multiple referents: {}, {}\".format(\n",
    "                        name, row.wiki_name, option\n",
    "                    ))\n",
    "                row.wiki_bool = True\n",
    "                row.wiki_name = option\n",
    "                row.wiki_length = len(pg.content)\n",
    "                row.firstline = pg.summary[:160]\n",
    "    except Exception as e:\n",
    "        print(\"Unexpected exception\", type(e))\n",
    "        print(e)\n",
    "        return row\n",
    "    return row\n",
    "\n",
    "def disambig_row2(row):\n",
    "    \"\"\"disambig_row with pokemon error handling\"\"\"\n",
    "    try:\n",
    "        return disambig_row(row)\n",
    "    except Exception as e:\n",
    "        print(\"Unexpected exception for name={}, \".format(row['name']), type(e))\n",
    "        print(e)\n",
    "        return row"
   ]
  },
  {
   "cell_type": "code",
   "execution_count": 9,
   "metadata": {
    "collapsed": false
   },
   "outputs": [
    {
     "name": "stdout",
     "output_type": "stream",
     "text": [
      "WARNING: name David Thomas matches multiple referents: David Gilbert Thomas, Dave Thomas (skeptic)\n",
      "Double-dab for option Thomas Hartmann of name Thomas Hartman\n",
      "WARNING: name James Macdonald matches multiple referents: James E. MacDonald, James E. McDonald\n",
      "WARNING: name James Macdonald matches multiple referents: James E. McDonald, James Ross MacDonald\n",
      "WARNING: name James Macdonald matches multiple referents: James E. MacDonald, James E. McDonald\n",
      "WARNING: name James Macdonald matches multiple referents: James E. McDonald, James Ross MacDonald\n",
      "WARNING: name Jim Thomson matches multiple referents: James Thomson (engineer), James Thomson (mathematician)\n",
      "Unexpected exception for name=Robert Fisher,  <class 'requests.exceptions.ConnectionError'>\n",
      "HTTPConnectionPool(host='en.wikipedia.org', port=80): Max retries exceeded with url: /w/api.php?prop=extracts&explaintext=&exintro=&titles=Rob+Fisher+%28motorcyclist%29&format=json&action=query (Caused by NewConnectionError('<urllib3.connection.HTTPConnection object at 0x7f31ba6ca208>: Failed to establish a new connection: [Errno 101] Network is unreachable',))\n",
      "Unexpected exception <class 'requests.exceptions.ConnectionError'>\n",
      "HTTPConnectionPool(host='en.wikipedia.org', port=80): Max retries exceeded with url: /w/api.php?prop=info%7Cpageprops&action=query&inprop=url&redirects=&titles=Feng+Gao&format=json&ppprop=disambiguation (Caused by NewConnectionError('<urllib3.connection.HTTPConnection object at 0x7f31ba828668>: Failed to establish a new connection: [Errno 101] Network is unreachable',))\n",
      "WARNING: name Alexander Popov matches multiple referents: Alexander Stepanovich Popov, Alexander Popov (film)\n",
      "Unexpected exception for name=Jian Zhang,  <class 'wikipedia.exceptions.PageError'>\n",
      "Page id \"張健 (民運人士)\" does not match any pages. Try another id!\n",
      "WARNING: name William Greene matches multiple referents: William Batchelder Greene, William Greene (economist)\n",
      "WARNING: name Robert Hall matches multiple referents: Robert Hall, Baron Roberthall, Robert Hall (economist)\n",
      "WARNING: name Charles Holt matches multiple referents: Charles A. Holt, Charles C. Holt\n",
      "WARNING: name James Walker matches multiple referents: James Walker (Labour politician), Jim Walker (economist)\n",
      "WARNING: name Gregory Clark matches multiple referents: Gregory Clark (author), Gregory Clark (economist)\n",
      "WARNING: name Gregory Clark matches multiple referents: Gregory Clark (economist), Greg Clark\n",
      "WARNING: name John Clark matches multiple referents: John Davidson Clark, John Bates Clark\n",
      "WARNING: name John Clark matches multiple referents: John Bates Clark, John Maurice Clark\n",
      "Unexpected exception for name=Anthony Smith,  <class 'KeyError'>\n",
      "'fullurl'\n",
      "WARNING: name Mark Taylor matches multiple referents: Mark C. Taylor, Mark P. Taylor\n",
      "WARNING: name Stephen C. Smith matches multiple referents: Stephen C. Smith (economist), Stephen C. Smith (sociologist)\n",
      "WARNING: name Francesco Parisi matches multiple referents: Francesco Parisi (economist), Francesco Parisi (politician)\n",
      "WARNING: name John Fitzgerald matches multiple referents: Jack Fitzgerald, John D. FitzGerald\n",
      "Unexpected exception <class 'TypeError'>\n",
      "argument of type 'NoneType' is not iterable\n",
      "WARNING: name Chris Jones matches multiple referents: Chris Jones (cricketer), Christopher Jones (biologist)\n",
      "WARNING: name Barry Smith matches multiple referents: Barry Smith (academic), Barry C. Smith\n",
      "WARNING: name Paul Griffiths matches multiple referents: Paul J. Griffiths, Paul E. Griffiths\n",
      "Unexpected exception for name=John Perry,  <class 'wikipedia.exceptions.PageError'>\n",
      "Page id \"Perry, John (DNB00)\" does not match any pages. Try another id!\n",
      "Unexpected exception <class 'KeyError'>\n",
      "'fullurl'\n"
     ]
    }
   ],
   "source": [
    "df2 = df.apply(disambig_row2, axis=1)"
   ]
  },
  {
   "cell_type": "code",
   "execution_count": 11,
   "metadata": {
    "collapsed": false
   },
   "outputs": [
    {
     "data": {
      "text/plain": [
       "1397"
      ]
     },
     "execution_count": 11,
     "metadata": {},
     "output_type": "execute_result"
    }
   ],
   "source": [
    "df2.wiki_bool.sum()"
   ]
  },
  {
   "cell_type": "code",
   "execution_count": 12,
   "metadata": {
    "collapsed": true
   },
   "outputs": [],
   "source": [
    "df2.to_csv('gscholar_complete_v4.csv')"
   ]
  },
  {
   "cell_type": "code",
   "execution_count": null,
   "metadata": {
    "collapsed": true
   },
   "outputs": [],
   "source": [
    "assert False"
   ]
  },
  {
   "cell_type": "code",
   "execution_count": null,
   "metadata": {
    "collapsed": false
   },
   "outputs": [],
   "source": [
    "mini = df[df.dbig == True].sample(15, random_state=1)\n",
    "dmini = mini.apply(disambig_row, axis=1)\n",
    "\n",
    "cols = ['name', 'field', 'wiki_bool', 'wiki_name', 'url']\n",
    "dmini[cols]"
   ]
  },
  {
   "cell_type": "code",
   "execution_count": null,
   "metadata": {
    "collapsed": false
   },
   "outputs": [],
   "source": [
    "cols = ['name', 'field', 'wiki_bool', 'wiki_name', 'url']\n",
    "dmini[cols]"
   ]
  },
  {
   "cell_type": "code",
   "execution_count": null,
   "metadata": {
    "collapsed": false
   },
   "outputs": [],
   "source": [
    "dmini"
   ]
  }
 ],
 "metadata": {
  "kernelspec": {
   "display_name": "Python 3",
   "language": "python",
   "name": "python3"
  },
  "language_info": {
   "codemirror_mode": {
    "name": "ipython",
    "version": 3
   },
   "file_extension": ".py",
   "mimetype": "text/x-python",
   "name": "python",
   "nbconvert_exporter": "python",
   "pygments_lexer": "ipython3",
   "version": "3.5.2"
  }
 },
 "nbformat": 4,
 "nbformat_minor": 2
}
